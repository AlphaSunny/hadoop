{
 "cells": [
  {
   "cell_type": "code",
   "execution_count": 2,
   "metadata": {
    "collapsed": false
   },
   "outputs": [],
   "source": [
    "from pyspark.sql import SparkSession"
   ]
  },
  {
   "cell_type": "code",
   "execution_count": 3,
   "metadata": {
    "collapsed": true
   },
   "outputs": [],
   "source": [
    "spark = SparkSession.builder.appName(\"NLPSpamDetect\").getOrCreate()"
   ]
  },
  {
   "cell_type": "code",
   "execution_count": 10,
   "metadata": {
    "collapsed": true
   },
   "outputs": [],
   "source": [
    "data = spark.read.csv(\"smsspamcollection/SMSSpamCollection\", inferSchema=True, sep='\\t')"
   ]
  },
  {
   "cell_type": "code",
   "execution_count": 13,
   "metadata": {
    "collapsed": false
   },
   "outputs": [],
   "source": [
    "data = data.withColumnRenamed(\"_c0\", \"class\").withColumnRenamed(\"_c1\", \"text\")"
   ]
  },
  {
   "cell_type": "code",
   "execution_count": 14,
   "metadata": {
    "collapsed": false
   },
   "outputs": [
    {
     "name": "stdout",
     "output_type": "stream",
     "text": [
      "+-----+--------------------+\n",
      "|class|                text|\n",
      "+-----+--------------------+\n",
      "|  ham|Go until jurong p...|\n",
      "|  ham|Ok lar... Joking ...|\n",
      "| spam|Free entry in 2 a...|\n",
      "|  ham|U dun say so earl...|\n",
      "|  ham|Nah I don't think...|\n",
      "| spam|FreeMsg Hey there...|\n",
      "|  ham|Even my brother i...|\n",
      "|  ham|As per your reque...|\n",
      "| spam|WINNER!! As a val...|\n",
      "| spam|Had your mobile 1...|\n",
      "|  ham|I'm gonna be home...|\n",
      "| spam|SIX chances to wi...|\n",
      "| spam|URGENT! You have ...|\n",
      "|  ham|I've been searchi...|\n",
      "|  ham|I HAVE A DATE ON ...|\n",
      "| spam|XXXMobileMovieClu...|\n",
      "|  ham|Oh k...i'm watchi...|\n",
      "|  ham|Eh u remember how...|\n",
      "|  ham|Fine if thats th...|\n",
      "| spam|England v Macedon...|\n",
      "+-----+--------------------+\n",
      "only showing top 20 rows\n",
      "\n"
     ]
    }
   ],
   "source": [
    "data.show()"
   ]
  },
  {
   "cell_type": "markdown",
   "metadata": {},
   "source": [
    "### Clean and prepare the data"
   ]
  },
  {
   "cell_type": "code",
   "execution_count": 15,
   "metadata": {
    "collapsed": true
   },
   "outputs": [],
   "source": [
    "from pyspark.sql.functions import length"
   ]
  },
  {
   "cell_type": "code",
   "execution_count": 16,
   "metadata": {
    "collapsed": false
   },
   "outputs": [],
   "source": [
    "data = data.withColumn('length', length(data['text']))"
   ]
  },
  {
   "cell_type": "code",
   "execution_count": 18,
   "metadata": {
    "collapsed": false
   },
   "outputs": [
    {
     "name": "stdout",
     "output_type": "stream",
     "text": [
      "+-----+-----------------+\n",
      "|class|      avg(length)|\n",
      "+-----+-----------------+\n",
      "|  ham|71.48663212435233|\n",
      "| spam|138.6706827309237|\n",
      "+-----+-----------------+\n",
      "\n"
     ]
    }
   ],
   "source": [
    "data.groupBy('class').mean().show()"
   ]
  },
  {
   "cell_type": "code",
   "execution_count": 20,
   "metadata": {
    "collapsed": true
   },
   "outputs": [],
   "source": [
    "from pyspark.ml.feature import Tokenizer, StopWordsRemover, CountVectorizer, IDF,StringIndexer"
   ]
  },
  {
   "cell_type": "code",
   "execution_count": 21,
   "metadata": {
    "collapsed": true
   },
   "outputs": [],
   "source": [
    "tokenizer = Tokenizer(inputCol=\"text\", outputCol=\"token_text\")\n",
    "stopremove = StopWordsRemover(inputCol=\"token_text\", outputCol= \"stop_remove_text\")\n",
    "count_vec = CountVectorizer(inputCol=\"stop_remove_text\", outputCol=\"c_vec\")\n",
    "idf = IDF(inputCol=\"c_vec\", outputCol = \"idf_vec\")\n",
    "ham_spam_dummy = StringIndexer(inputCol=\"class\", outputCol=\"label\")"
   ]
  },
  {
   "cell_type": "code",
   "execution_count": 22,
   "metadata": {
    "collapsed": true
   },
   "outputs": [],
   "source": [
    "from pyspark.ml.feature import VectorAssembler\n",
    "from pyspark.ml.linalg import Vector"
   ]
  },
  {
   "cell_type": "code",
   "execution_count": 23,
   "metadata": {
    "collapsed": true
   },
   "outputs": [],
   "source": [
    "clean_up = VectorAssembler(inputCols=['idf_vec', 'length'], outputCol=\"features\")"
   ]
  },
  {
   "cell_type": "code",
   "execution_count": 24,
   "metadata": {
    "collapsed": true
   },
   "outputs": [],
   "source": [
    "from pyspark.ml.classification import NaiveBayes"
   ]
  },
  {
   "cell_type": "code",
   "execution_count": 25,
   "metadata": {
    "collapsed": true
   },
   "outputs": [],
   "source": [
    "nb = NaiveBayes()"
   ]
  },
  {
   "cell_type": "code",
   "execution_count": 28,
   "metadata": {
    "collapsed": true
   },
   "outputs": [],
   "source": [
    "from pyspark.ml import Pipeline"
   ]
  },
  {
   "cell_type": "code",
   "execution_count": 35,
   "metadata": {
    "collapsed": false
   },
   "outputs": [],
   "source": [
    "data_prep_pipe = Pipeline(stages = [ham_spam_dummy, tokenizer, stopremove, count_vec, idf, clean_up])"
   ]
  },
  {
   "cell_type": "code",
   "execution_count": 36,
   "metadata": {
    "collapsed": true
   },
   "outputs": [],
   "source": [
    "cleaner = data_prep_pipe.fit(data)"
   ]
  },
  {
   "cell_type": "code",
   "execution_count": 37,
   "metadata": {
    "collapsed": false
   },
   "outputs": [],
   "source": [
    "clean_data = cleaner.transform(data)"
   ]
  },
  {
   "cell_type": "code",
   "execution_count": 39,
   "metadata": {
    "collapsed": false,
    "scrolled": true
   },
   "outputs": [
    {
     "name": "stdout",
     "output_type": "stream",
     "text": [
      "+-----+--------------------+------+-----+--------------------+--------------------+--------------------+--------------------+--------------------+\n",
      "|class|                text|length|label|          token_text|    stop_remove_text|               c_vec|             idf_vec|            features|\n",
      "+-----+--------------------+------+-----+--------------------+--------------------+--------------------+--------------------+--------------------+\n",
      "|  ham|Go until jurong p...|   111|  0.0|[go, until, juron...|[go, jurong, poin...|(13460,[8,12,33,6...|(13460,[8,12,33,6...|(13461,[8,12,33,6...|\n",
      "|  ham|Ok lar... Joking ...|    29|  0.0|[ok, lar..., joki...|[ok, lar..., joki...|(13460,[0,26,308,...|(13460,[0,26,308,...|(13461,[0,26,308,...|\n",
      "| spam|Free entry in 2 a...|   155|  1.0|[free, entry, in,...|[free, entry, 2, ...|(13460,[2,14,20,3...|(13460,[2,14,20,3...|(13461,[2,14,20,3...|\n",
      "|  ham|U dun say so earl...|    49|  0.0|[u, dun, say, so,...|[u, dun, say, ear...|(13460,[0,73,84,1...|(13460,[0,73,84,1...|(13461,[0,73,84,1...|\n",
      "|  ham|Nah I don't think...|    61|  0.0|[nah, i, don't, t...|[nah, don't, thin...|(13460,[36,39,140...|(13460,[36,39,140...|(13461,[36,39,140...|\n",
      "| spam|FreeMsg Hey there...|   147|  1.0|[freemsg, hey, th...|[freemsg, hey, da...|(13460,[11,57,62,...|(13460,[11,57,62,...|(13461,[11,57,62,...|\n",
      "|  ham|Even my brother i...|    77|  0.0|[even, my, brothe...|[even, brother, l...|(13460,[11,55,108...|(13460,[11,55,108...|(13461,[11,55,108...|\n",
      "|  ham|As per your reque...|   160|  0.0|[as, per, your, r...|[per, request, 'm...|(13460,[133,195,4...|(13460,[133,195,4...|(13461,[133,195,4...|\n",
      "| spam|WINNER!! As a val...|   157|  1.0|[winner!!, as, a,...|[winner!!, valued...|(13460,[1,50,124,...|(13460,[1,50,124,...|(13461,[1,50,124,...|\n",
      "| spam|Had your mobile 1...|   154|  1.0|[had, your, mobil...|[mobile, 11, mont...|(13460,[0,1,14,29...|(13460,[0,1,14,29...|(13461,[0,1,14,29...|\n",
      "|  ham|I'm gonna be home...|   109|  0.0|[i'm, gonna, be, ...|[i'm, gonna, home...|(13460,[5,19,36,4...|(13460,[5,19,36,4...|(13461,[5,19,36,4...|\n",
      "| spam|SIX chances to wi...|   136|  1.0|[six, chances, to...|[six, chances, wi...|(13460,[9,18,40,9...|(13460,[9,18,40,9...|(13461,[9,18,40,9...|\n",
      "| spam|URGENT! You have ...|   155|  1.0|[urgent!, you, ha...|[urgent!, 1, week...|(13460,[14,32,50,...|(13460,[14,32,50,...|(13461,[14,32,50,...|\n",
      "|  ham|I've been searchi...|   196|  0.0|[i've, been, sear...|[i've, searching,...|(13460,[42,99,101...|(13460,[42,99,101...|(13461,[42,99,101...|\n",
      "|  ham|I HAVE A DATE ON ...|    35|  0.0|[i, have, a, date...|[date, sunday, wi...|(13460,[567,1744,...|(13460,[567,1744,...|(13461,[567,1744,...|\n",
      "| spam|XXXMobileMovieClu...|   149|  1.0|[xxxmobilemoviecl...|[xxxmobilemoviecl...|(13460,[32,113,11...|(13460,[32,113,11...|(13461,[32,113,11...|\n",
      "|  ham|Oh k...i'm watchi...|    26|  0.0|[oh, k...i'm, wat...|[oh, k...i'm, wat...|(13460,[86,224,37...|(13460,[86,224,37...|(13461,[86,224,37...|\n",
      "|  ham|Eh u remember how...|    81|  0.0|[eh, u, remember,...|[eh, u, remember,...|(13460,[0,2,52,13...|(13460,[0,2,52,13...|(13461,[0,2,52,13...|\n",
      "|  ham|Fine if thats th...|    56|  0.0|[fine, if, thats...|[fine, thats, wa...|(13460,[0,77,107,...|(13460,[0,77,107,...|(13461,[0,77,107,...|\n",
      "| spam|England v Macedon...|   155|  1.0|[england, v, mace...|[england, v, mace...|(13460,[4,32,35,6...|(13460,[4,32,35,6...|(13461,[4,32,35,6...|\n",
      "+-----+--------------------+------+-----+--------------------+--------------------+--------------------+--------------------+--------------------+\n",
      "only showing top 20 rows\n",
      "\n"
     ]
    }
   ],
   "source": [
    "clean_data.show()"
   ]
  },
  {
   "cell_type": "code",
   "execution_count": 40,
   "metadata": {
    "collapsed": true
   },
   "outputs": [],
   "source": [
    "clean_df =  clean_data.select(\"label\", \"features\")"
   ]
  },
  {
   "cell_type": "code",
   "execution_count": 41,
   "metadata": {
    "collapsed": true
   },
   "outputs": [],
   "source": [
    "(train, test) = clean_df.randomSplit([0.7, 0.3])"
   ]
  },
  {
   "cell_type": "code",
   "execution_count": 43,
   "metadata": {
    "collapsed": true
   },
   "outputs": [],
   "source": [
    "spam_detect = nb.fit(train)"
   ]
  },
  {
   "cell_type": "code",
   "execution_count": 45,
   "metadata": {
    "collapsed": false
   },
   "outputs": [],
   "source": [
    "results = spam_detect.transform(test)"
   ]
  },
  {
   "cell_type": "code",
   "execution_count": 46,
   "metadata": {
    "collapsed": false
   },
   "outputs": [
    {
     "name": "stdout",
     "output_type": "stream",
     "text": [
      "+-----+--------------------+--------------------+--------------------+----------+\n",
      "|label|            features|       rawPrediction|         probability|prediction|\n",
      "+-----+--------------------+--------------------+--------------------+----------+\n",
      "|  0.0|(13461,[0,1,8,9,1...|[-1196.3838918881...|[1.0,3.4139624788...|       0.0|\n",
      "|  0.0|(13461,[0,1,8,16,...|[-659.11253068913...|[1.0,7.7987339067...|       0.0|\n",
      "|  0.0|(13461,[0,1,12,34...|[-875.03362618283...|[1.0,1.7785285399...|       0.0|\n",
      "|  0.0|(13461,[0,1,29,38...|[-1478.0709252699...|[0.99999999971843...|       0.0|\n",
      "|  0.0|(13461,[0,1,33,46...|[-378.60045243609...|[1.0,3.1753777680...|       0.0|\n",
      "|  0.0|(13461,[0,1,175,3...|[-184.17570397839...|[0.99999254245956...|       0.0|\n",
      "|  0.0|(13461,[0,2,3,7,1...|[-3380.0855761719...|[1.0,3.9835671688...|       0.0|\n",
      "|  0.0|(13461,[0,2,3,7,1...|[-3380.0855761719...|[1.0,3.9835671688...|       0.0|\n",
      "|  0.0|(13461,[0,2,4,5,8...|[-540.79305133780...|[1.0,4.9545820766...|       0.0|\n",
      "|  0.0|(13461,[0,2,4,6,1...|[-2491.5247489860...|[1.0,7.1035476029...|       0.0|\n",
      "|  0.0|(13461,[0,2,4,9,1...|[-1317.8720333914...|[1.0,3.8077994770...|       0.0|\n",
      "|  0.0|(13461,[0,2,4,22,...|[-1609.0807183509...|[1.0,1.6933904308...|       0.0|\n",
      "|  0.0|(13461,[0,2,5,9,7...|[-736.91614350953...|[1.0,1.8704776609...|       0.0|\n",
      "|  0.0|(13461,[0,2,5,19,...|[-1071.5443791092...|[1.0,6.6839105019...|       0.0|\n",
      "|  0.0|(13461,[0,2,5,25,...|[-491.24556111439...|[1.0,5.3538034201...|       0.0|\n",
      "|  0.0|(13461,[0,2,8,9,1...|[-452.86377894396...|[0.99999999999999...|       0.0|\n",
      "|  0.0|(13461,[0,2,8,117...|[-449.88830924051...|[1.0,9.4944597853...|       0.0|\n",
      "|  0.0|(13461,[0,2,8,135...|[-240.48752071274...|[1.0,6.2348432856...|       0.0|\n",
      "|  0.0|(13461,[0,2,9,21,...|[-882.39019867581...|[1.0,7.7240749247...|       0.0|\n",
      "|  0.0|(13461,[0,2,10,15...|[-659.94433186270...|[1.0,5.2923217922...|       0.0|\n",
      "+-----+--------------------+--------------------+--------------------+----------+\n",
      "only showing top 20 rows\n",
      "\n"
     ]
    }
   ],
   "source": [
    "results.show()"
   ]
  },
  {
   "cell_type": "code",
   "execution_count": 47,
   "metadata": {
    "collapsed": true
   },
   "outputs": [],
   "source": [
    "from pyspark.ml.evaluation import MulticlassClassificationEvaluator"
   ]
  },
  {
   "cell_type": "code",
   "execution_count": null,
   "metadata": {
    "collapsed": false
   },
   "outputs": [
    {
     "name": "stdout",
     "output_type": "stream",
     "text": [
      "Accuracy of model at predicting spam was: 0.9209503261240142\n"
     ]
    }
   ],
   "source": [
    "acc_eval = MulticlassClassificationEvaluator()\n",
    "acc = acc_eval.evaluate(results)\n",
    "print(\"Accuracy of model at predicting spam was: {}\".format(acc))"
   ]
  },
  {
   "cell_type": "code",
   "execution_count": null,
   "metadata": {
    "collapsed": true
   },
   "outputs": [],
   "source": []
  }
 ],
 "metadata": {
  "anaconda-cloud": {},
  "kernelspec": {
   "display_name": "Python [Root]",
   "language": "python",
   "name": "Python [Root]"
  },
  "language_info": {
   "codemirror_mode": {
    "name": "ipython",
    "version": 3
   },
   "file_extension": ".py",
   "mimetype": "text/x-python",
   "name": "python",
   "nbconvert_exporter": "python",
   "pygments_lexer": "ipython3",
   "version": "3.5.2"
  }
 },
 "nbformat": 4,
 "nbformat_minor": 0
}
