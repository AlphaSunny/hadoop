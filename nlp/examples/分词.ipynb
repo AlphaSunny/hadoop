{
 "cells": [
  {
   "cell_type": "code",
   "execution_count": 1,
   "metadata": {},
   "outputs": [],
   "source": [
    "import jieba"
   ]
  },
  {
   "cell_type": "code",
   "execution_count": 2,
   "metadata": {},
   "outputs": [],
   "source": [
    "sent = \"中文分词是文本处理不可或缺的一步\""
   ]
  },
  {
   "cell_type": "code",
   "execution_count": 3,
   "metadata": {},
   "outputs": [],
   "source": [
    "seg_list = jieba.cut(sent, cut_all=True)"
   ]
  },
  {
   "cell_type": "code",
   "execution_count": 4,
   "metadata": {},
   "outputs": [
    {
     "name": "stderr",
     "output_type": "stream",
     "text": [
      "Building prefix dict from the default dictionary ...\n",
      "Dumping model to file cache C:\\Users\\Pool\\AppData\\Local\\Temp\\jieba.cache\n",
      "Loading model cost 0.931 seconds.\n",
      "Prefix dict has been built succesfully.\n"
     ]
    },
    {
     "name": "stdout",
     "output_type": "stream",
     "text": [
      "全模式： 中文/分词/是/文本/文本处理/本处/处理/不可/不可或缺/或缺/的/一步\n"
     ]
    }
   ],
   "source": [
    "print('全模式：', '/'.join(seg_list))"
   ]
  },
  {
   "cell_type": "code",
   "execution_count": 5,
   "metadata": {},
   "outputs": [
    {
     "name": "stdout",
     "output_type": "stream",
     "text": [
      "默认精确模式： 中文/分词/是/文本处理/不可或缺/的/一步\n"
     ]
    }
   ],
   "source": [
    "seg_list = jieba.cut(sent,)\n",
    "print(\"默认精确模式：\", '/'.join(seg_list))"
   ]
  },
  {
   "cell_type": "code",
   "execution_count": 6,
   "metadata": {},
   "outputs": [],
   "source": [
    "long_txt = \"分为夏季奥林匹克运动会、夏季残疾人奥林匹克运动会、冬季奥林匹克运动会、冬季残疾人奥林匹克运动会、夏季青年奥林匹克运动会、冬季青年奥林匹克运动会、世界夏季特殊奥林匹克运动会、世界冬季特殊奥林匹克运动会、夏季聋人奥林匹克运动会、冬季聋人奥林匹克运动会。奥运会中，各个国家用运动交流各国文化，以及切磋体育技能，其目的是为了鼓励人们不断进行体育运动。\""
   ]
  },
  {
   "cell_type": "code",
   "execution_count": 7,
   "metadata": {},
   "outputs": [],
   "source": [
    "seg_list = jieba.cut(long_txt)"
   ]
  },
  {
   "cell_type": "code",
   "execution_count": 9,
   "metadata": {},
   "outputs": [
    {
     "name": "stdout",
     "output_type": "stream",
     "text": [
      "分为/夏季/奥林匹克运动会/、/夏季/残疾人/奥林匹克运动会/、/冬季/奥林匹克运动会/、/冬季/残疾人/奥林匹克运动会/、/夏季/青年/奥林匹克运动会/、/冬季/青年/奥林匹克运动会/、/世界/夏季/特殊/奥林匹克运动会/、/世界/冬季/特殊/奥林匹克运动会/、/夏季/聋人/奥林匹克运动会/、/冬季/聋人/奥林匹克运动会/。/奥运会/中/，/各个/国家/用/运动/交流/各国/文化/，/以及/切磋/体育/技能/，/其/目的/是/为了/鼓励/人们/不断/进行/体育运动/。\n"
     ]
    }
   ],
   "source": [
    "print('/'.join(seg_list))"
   ]
  },
  {
   "cell_type": "code",
   "execution_count": null,
   "metadata": {},
   "outputs": [],
   "source": []
  }
 ],
 "metadata": {
  "kernelspec": {
   "display_name": "Python 3",
   "language": "python",
   "name": "python3"
  },
  "language_info": {
   "codemirror_mode": {
    "name": "ipython",
    "version": 3
   },
   "file_extension": ".py",
   "mimetype": "text/x-python",
   "name": "python",
   "nbconvert_exporter": "python",
   "pygments_lexer": "ipython3",
   "version": "3.6.6"
  }
 },
 "nbformat": 4,
 "nbformat_minor": 2
}
